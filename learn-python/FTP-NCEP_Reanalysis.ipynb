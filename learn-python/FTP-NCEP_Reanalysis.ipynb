{
 "cells": [
  {
   "cell_type": "code",
   "execution_count": 14,
   "metadata": {},
   "outputs": [],
   "source": [
    "#coding:utf-8\n",
    "from ctypes import *\n",
    "import os\n",
    "import sys\n",
    "import ftplib\n",
    "import time\n",
    "\n",
    "class myFtp:\n",
    "    ftp = ftplib.FTP()\n",
    "    bIsDir = False\n",
    "    path = \"\"\n",
    "    def __init__(self, host, port=21):\n",
    "        #self.ftp.set_debuglevel(2) #打开调试级别2，显示详细信息 \n",
    "        #self.ftp.set_pasv(0)      #0主动模式 1 #被动模式\n",
    "        self.ftp.connect( host,int(port))\n",
    "            \n",
    "    def Login(self, user, passwd):\n",
    "        self.ftp.login( user, passwd )\n",
    "        print (self.ftp.welcome)\n",
    "\n",
    "    def DownLoadFile(self, LocalFile, RemoteFile):\n",
    "        file_handler = open( LocalFile, 'wb' )\n",
    "        print(LocalFile)\n",
    "        self.ftp.retrbinary( \"RETR %s\" %( RemoteFile ), file_handler.write ) \n",
    "        file_handler.close()\n",
    "        time.sleep(1)\n",
    "        return True\n",
    "    \n",
    "    def UpLoadFile(self, LocalFile, RemoteFile):\n",
    "        if os.path.isfile( LocalFile ) == False:\n",
    "            return False\n",
    "        file_handler = open(LocalFile, \"rb\")\n",
    "        self.ftp.storbinary('STOR %s'%RemoteFile, file_handler, 4096)\n",
    "        file_handler.close()\n",
    "        return True\n",
    "\n",
    "    def UpLoadFileTree(self, LocalDir, RemoteDir):\n",
    "        if os.path.isdir(LocalDir) == False:\n",
    "            return False\n",
    "        print (\"LocalDir:\", LocalDir)\n",
    "        LocalNames = os.listdir(LocalDir)\n",
    "        print(\"list:\", LocalNames)\n",
    "        print (RemoteDir)\n",
    "        self.ftp.cwd( RemoteDir )\n",
    "        for Local in LocalNames:\n",
    "            src = os.path.join( LocalDir, Local)\n",
    "            if os.path.isdir( src ): self.UpLoadFileTree( src, Local )\n",
    "            else:\n",
    "                self.UpLoadFile( src, Local )\n",
    "                \n",
    "        self.ftp.cwd( \"..\" )\n",
    "        return\n",
    "    \n",
    "    def DownLoadFileTree(self, LocalDir, RemoteDir):\n",
    "        print (\"remoteDir:\", RemoteDir)\n",
    "        if os.path.isdir( LocalDir ) == False:\n",
    "            os.makedirs( LocalDir )\n",
    "        self.ftp.cwd( RemoteDir )\n",
    "        RemoteNames = self.ftp.nlst()  \n",
    "        print(\"RemoteNames\", RemoteNames)\n",
    "        print (self.ftp.nlst( ))\n",
    "        for file in RemoteNames:\n",
    "            Local = os.path.join( LocalDir, file )\n",
    "            if self.isDir( file ):\n",
    "                self.DownLoadFileTree( Local, file )                \n",
    "            else:\n",
    "                self.DownLoadFile( Local, file )\n",
    "        self.ftp.cwd( \"..\" )\n",
    "        return\n",
    "    \n",
    "    def show(self, list):\n",
    "        result = list.lower().split( \" \" )\n",
    "        if self.path in result and \"<dir>\" in result:\n",
    "            self.bIsDir = True\n",
    "     \n",
    "    def isDir(self, path):\n",
    "        self.bIsDir = False\n",
    "        self.path = path\n",
    "        #this ues callback function ,that will change bIsDir value\n",
    "        self.ftp.retrlines( 'LIST', self.show )\n",
    "        return self.bIsDir\n",
    "    \n",
    "    def close(self):\n",
    "        self.ftp.quit()"
   ]
  },
  {
   "cell_type": "code",
   "execution_count": 15,
   "metadata": {},
   "outputs": [
    {
     "name": "stdout",
     "output_type": "stream",
     "text": [
      "220-**********************************************************************\n",
      "220-**WARNING**WARNING**WARNING**WARNING**WARNING**WARNING**WARNING**    *\n",
      "220-*                                                                    *\n",
      "220-* This is a Department of Commerce (DOC) computer system.  DOC       *\n",
      "220-* computer systems are provided for the processing of official U.S.  *\n",
      "220-* Government information only. Unauthorized access or use of this    *\n",
      "220-* computer system may subject violators to criminal, civil, and/or   *\n",
      "220-* administrative action. All data contained within DOC computer      *\n",
      "220-* systems is owned by the DOC, and may be audited, intercepted,      *\n",
      "220-* recorded, read, copied, or captured in any manner and disclosed in *\n",
      "220-* any manner, by authorized personnel. THERE IS NO RIGHT OF PRIVACY  *\n",
      "220-* IN THIS SYSTEM. System personnel may disclose any potential        *\n",
      "220-* evidence of crime found on DOC computer systems to appropriate     *\n",
      "220-* authorities. USE OF THIS SYSTEM BY ANY USER, AUTHORIZED OR         *\n",
      "220-* UNAUTHORIZED CONSTITUTES CONSENT TO THIS AUDITING, INTERCEPTION,   *\n",
      "220-* RECORDING, READING, COPYING, CAPTURING, and DISCLOSURE OF COMPUTER *\n",
      "220-* ACTIVITY.                                                          *\n",
      "220-*                                                                    *\n",
      "220-**WARNING**WARNING**WARNING**WARNING**WARNING**WARNING**WARNING**    *\n",
      "220-**********************************************************************\n",
      "220 \n",
      "remoteDir: /Datasets//ncep.reanalysis/pressure/\n",
      "RemoteNames ['#testadd.ncl#', 'README', 'air.1948.nc', 'air.1949.nc', 'air.1950.nc', 'air.1951.nc', 'air.1952.nc', 'air.1953.nc', 'air.1954.nc', 'air.1955.nc', 'air.1956.nc', 'air.1957.nc', 'air.1958.nc', 'air.1959.nc', 'air.1960.nc', 'air.1961.nc', 'air.1962.nc', 'air.1963.nc', 'air.1964.nc', 'air.1965.nc', 'air.1966.nc', 'air.1967.nc', 'air.1968.nc', 'air.1969.nc', 'air.1970.nc', 'air.1971.nc', 'air.1972.nc', 'air.1973.nc', 'air.1974.nc', 'air.1975.nc', 'air.1976.nc', 'air.1977.nc', 'air.1978.nc', 'air.1979.nc', 'air.1980.nc', 'air.1981.nc', 'air.1982.nc', 'air.1983.nc', 'air.1984.nc', 'air.1985.nc', 'air.1986.nc', 'air.1987.nc', 'air.1988.nc', 'air.1989.nc', 'air.1990.nc', 'air.1991.nc', 'air.1992.nc', 'air.1993.nc', 'air.1994.nc', 'air.1995.nc', 'air.1996.nc', 'air.1997.nc', 'air.1998.nc', 'air.1999.nc', 'air.2000.nc', 'air.2001.nc', 'air.2002.nc', 'air.2003.nc', 'air.2004.nc', 'air.2005.nc', 'air.2006.nc', 'air.2007.nc', 'air.2008.nc', 'air.2009.nc', 'air.2010.nc', 'air.2011.nc', 'air.2012.nc', 'air.2013.nc', 'air.2014.nc', 'air.2015.nc', 'air.2016.nc', 'air.2017.nc', 'hgt.1948.nc', 'hgt.1949.nc', 'hgt.1950.nc', 'hgt.1951.nc', 'hgt.1952.nc', 'hgt.1953.nc', 'hgt.1954.nc', 'hgt.1955.nc', 'hgt.1956.nc', 'hgt.1957.nc', 'hgt.1958.nc', 'hgt.1959.nc', 'hgt.1960.nc', 'hgt.1961.nc', 'hgt.1962.nc', 'hgt.1963.nc', 'hgt.1964.nc', 'hgt.1965.nc', 'hgt.1966.nc', 'hgt.1967.nc', 'hgt.1968.nc', 'hgt.1969.nc', 'hgt.1970.nc', 'hgt.1971.nc', 'hgt.1972.nc', 'hgt.1973.nc', 'hgt.1974.nc', 'hgt.1975.nc', 'hgt.1976.nc', 'hgt.1977.nc', 'hgt.1978.nc', 'hgt.1979.nc', 'hgt.1980.nc', 'hgt.1981.nc', 'hgt.1982.nc', 'hgt.1983.nc', 'hgt.1984.nc', 'hgt.1985.nc', 'hgt.1986.nc', 'hgt.1987.nc', 'hgt.1988.nc', 'hgt.1989.nc', 'hgt.1990.nc', 'hgt.1991.nc', 'hgt.1992.nc', 'hgt.1993.nc', 'hgt.1994.nc', 'hgt.1995.nc', 'hgt.1996.nc', 'hgt.1997.nc', 'hgt.1998.nc', 'hgt.1999.nc', 'hgt.2000.nc', 'hgt.2001.nc', 'hgt.2002.nc', 'hgt.2003.nc', 'hgt.2004.nc', 'hgt.2005.nc', 'hgt.2006.nc', 'hgt.2007.nc', 'hgt.2008.nc', 'hgt.2009.nc', 'hgt.2010.nc', 'hgt.2011.nc', 'hgt.2012.nc', 'hgt.2013.nc', 'hgt.2014.nc', 'hgt.2015.nc', 'hgt.2016.nc', 'hgt.2017.nc', 'omega.1948.nc', 'omega.1949.nc', 'omega.1950.nc', 'omega.1951.nc', 'omega.1952.nc', 'omega.1953.nc', 'omega.1954.nc', 'omega.1955.nc', 'omega.1956.nc', 'omega.1957.nc', 'omega.1958.nc', 'omega.1959.nc', 'omega.1960.nc', 'omega.1961.nc', 'omega.1962.nc', 'omega.1963.nc', 'omega.1964.nc', 'omega.1965.nc', 'omega.1966.nc', 'omega.1967.nc', 'omega.1968.nc', 'omega.1969.nc', 'omega.1970.nc', 'omega.1971.nc', 'omega.1972.nc', 'omega.1973.nc', 'omega.1974.nc', 'omega.1975.nc', 'omega.1976.nc', 'omega.1977.nc', 'omega.1978.nc', 'omega.1979.nc', 'omega.1980.nc', 'omega.1981.nc', 'omega.1982.nc', 'omega.1983.nc', 'omega.1984.nc', 'omega.1985.nc', 'omega.1986.nc', 'omega.1987.nc', 'omega.1988.nc', 'omega.1989.nc', 'omega.1990.nc', 'omega.1991.nc', 'omega.1992.nc', 'omega.1993.nc', 'omega.1994.nc', 'omega.1995.nc', 'omega.1996.nc', 'omega.1997.nc', 'omega.1998.nc', 'omega.1999.nc', 'omega.2000.nc', 'omega.2001.nc', 'omega.2002.nc', 'omega.2003.nc', 'omega.2004.nc', 'omega.2005.nc', 'omega.2006.nc', 'omega.2007.nc', 'omega.2008.nc', 'omega.2009.nc', 'omega.2010.nc', 'omega.2011.nc', 'omega.2012.nc', 'omega.2013.nc', 'omega.2014.nc', 'omega.2015.nc', 'omega.2016.nc', 'omega.2017.nc', 'path.cas', 'rhum.1948.nc', 'rhum.1949.nc', 'rhum.1950.nc', 'rhum.1951.nc', 'rhum.1952.nc', 'rhum.1953.nc', 'rhum.1954.nc', 'rhum.1955.nc', 'rhum.1956.nc', 'rhum.1957.nc', 'rhum.1958.nc', 'rhum.1959.nc', 'rhum.1960.nc', 'rhum.1961.nc', 'rhum.1962.nc', 'rhum.1963.nc', 'rhum.1964.nc', 'rhum.1965.nc', 'rhum.1966.nc', 'rhum.1967.nc', 'rhum.1968.nc', 'rhum.1969.nc', 'rhum.1970.nc', 'rhum.1971.nc', 'rhum.1972.nc', 'rhum.1973.nc', 'rhum.1974.nc', 'rhum.1975.nc', 'rhum.1976.nc', 'rhum.1977.nc', 'rhum.1978.nc', 'rhum.1979.nc', 'rhum.1980.nc', 'rhum.1981.nc', 'rhum.1982.nc', 'rhum.1983.nc', 'rhum.1984.nc', 'rhum.1985.nc', 'rhum.1986.nc', 'rhum.1987.nc', 'rhum.1988.nc', 'rhum.1989.nc', 'rhum.1990.nc', 'rhum.1991.nc', 'rhum.1992.nc', 'rhum.1993.nc', 'rhum.1994.nc', 'rhum.1995.nc', 'rhum.1996.nc', 'rhum.1997.nc', 'rhum.1998.nc', 'rhum.1999.nc', 'rhum.2000.nc', 'rhum.2001.nc', 'rhum.2002.nc', 'rhum.2003.nc', 'rhum.2004.nc', 'rhum.2005.nc', 'rhum.2006.nc', 'rhum.2007.nc', 'rhum.2008.nc', 'rhum.2009.nc', 'rhum.2010.nc', 'rhum.2011.nc', 'rhum.2012.nc', 'rhum.2013.nc', 'rhum.2014.nc', 'rhum.2015.nc', 'rhum.2016.nc', 'rhum.2017.nc', 'shum.1948.nc', 'shum.1949.nc', 'shum.1950.nc', 'shum.1951.nc', 'shum.1952.nc', 'shum.1953.nc', 'shum.1954.nc', 'shum.1955.nc', 'shum.1956.nc', 'shum.1957.nc', 'shum.1958.nc', 'shum.1959.nc', 'shum.1960.nc', 'shum.1961.nc', 'shum.1962.nc', 'shum.1963.nc', 'shum.1964.nc', 'shum.1965.nc', 'shum.1966.nc', 'shum.1967.nc', 'shum.1968.nc', 'shum.1969.nc', 'shum.1970.nc', 'shum.1971.nc', 'shum.1972.nc', 'shum.1973.nc', 'shum.1974.nc', 'shum.1975.nc', 'shum.1976.nc', 'shum.1977.nc', 'shum.1978.nc', 'shum.1979.nc', 'shum.1980.nc', 'shum.1981.nc', 'shum.1982.nc', 'shum.1983.nc', 'shum.1984.nc', 'shum.1985.nc', 'shum.1986.nc', 'shum.1987.nc', 'shum.1988.nc', 'shum.1989.nc', 'shum.1990.nc', 'shum.1991.nc', 'shum.1992.nc', 'shum.1993.nc', 'shum.1994.nc', 'shum.1995.nc', 'shum.1996.nc', 'shum.1997.nc', 'shum.1998.nc', 'shum.1999.nc', 'shum.2000.nc', 'shum.2001.nc', 'shum.2002.nc', 'shum.2003.nc', 'shum.2004.nc', 'shum.2005.nc', 'shum.2006.nc', 'shum.2007.nc', 'shum.2008.nc', 'shum.2009.nc', 'shum.2010.nc', 'shum.2011.nc', 'shum.2012.nc', 'shum.2013.nc', 'shum.2014.nc', 'shum.2015.nc', 'shum.2016.nc', 'shum.2017.nc', 'uwnd.1948.nc', 'uwnd.1949.nc', 'uwnd.1950.nc', 'uwnd.1951.nc', 'uwnd.1952.nc', 'uwnd.1953.nc', 'uwnd.1954.nc', 'uwnd.1955.nc', 'uwnd.1956.nc', 'uwnd.1957.nc', 'uwnd.1958.nc', 'uwnd.1959.nc', 'uwnd.1960.nc', 'uwnd.1961.nc', 'uwnd.1962.nc', 'uwnd.1963.nc', 'uwnd.1964.nc', 'uwnd.1965.nc', 'uwnd.1966.nc', 'uwnd.1967.nc', 'uwnd.1968.nc', 'uwnd.1969.nc', 'uwnd.1970.nc', 'uwnd.1971.nc', 'uwnd.1972.nc', 'uwnd.1973.nc', 'uwnd.1974.nc', 'uwnd.1975.nc', 'uwnd.1976.nc', 'uwnd.1977.nc', 'uwnd.1978.nc', 'uwnd.1979.nc', 'uwnd.1980.nc', 'uwnd.1981.nc', 'uwnd.1982.nc', 'uwnd.1983.nc', 'uwnd.1984.nc', 'uwnd.1985.nc', 'uwnd.1986.nc', 'uwnd.1987.nc', 'uwnd.1988.nc', 'uwnd.1989.nc', 'uwnd.1990.nc', 'uwnd.1991.nc', 'uwnd.1992.nc', 'uwnd.1993.nc', 'uwnd.1994.nc', 'uwnd.1995.nc', 'uwnd.1996.nc', 'uwnd.1997.nc', 'uwnd.1998.nc', 'uwnd.1999.nc', 'uwnd.2000.nc', 'uwnd.2001.nc', 'uwnd.2002.nc', 'uwnd.2003.nc', 'uwnd.2004.nc', 'uwnd.2005.nc', 'uwnd.2006.nc', 'uwnd.2007.nc', 'uwnd.2008.nc', 'uwnd.2009.nc', 'uwnd.2010.nc', 'uwnd.2011.nc', 'uwnd.2012.nc', 'uwnd.2013.nc', 'uwnd.2014.nc', 'uwnd.2015.nc', 'uwnd.2016.nc', 'uwnd.2017.nc', 'vwnd.1948.nc', 'vwnd.1949.nc', 'vwnd.1950.nc', 'vwnd.1951.nc', 'vwnd.1952.nc', 'vwnd.1953.nc', 'vwnd.1954.nc', 'vwnd.1955.nc', 'vwnd.1956.nc', 'vwnd.1957.nc', 'vwnd.1958.nc', 'vwnd.1959.nc', 'vwnd.1960.nc', 'vwnd.1961.nc', 'vwnd.1962.nc', 'vwnd.1963.nc', 'vwnd.1964.nc', 'vwnd.1965.nc', 'vwnd.1966.nc', 'vwnd.1967.nc', 'vwnd.1968.nc', 'vwnd.1969.nc', 'vwnd.1970.nc', 'vwnd.1971.nc', 'vwnd.1972.nc', 'vwnd.1973.nc', 'vwnd.1974.nc', 'vwnd.1975.nc', 'vwnd.1976.nc', 'vwnd.1977.nc', 'vwnd.1978.nc', 'vwnd.1979.nc', 'vwnd.1980.nc', 'vwnd.1981.nc', 'vwnd.1982.nc', 'vwnd.1983.nc', 'vwnd.1984.nc', 'vwnd.1985.nc', 'vwnd.1986.nc', 'vwnd.1987.nc', 'vwnd.1988.nc', 'vwnd.1989.nc', 'vwnd.1990.nc', 'vwnd.1991.nc', 'vwnd.1992.nc', 'vwnd.1993.nc', 'vwnd.1994.nc', 'vwnd.1995.nc', 'vwnd.1996.nc', 'vwnd.1997.nc', 'vwnd.1998.nc', 'vwnd.1999.nc', 'vwnd.2000.nc', 'vwnd.2001.nc', 'vwnd.2002.nc', 'vwnd.2003.nc', 'vwnd.2004.nc', 'vwnd.2005.nc', 'vwnd.2006.nc', 'vwnd.2007.nc', 'vwnd.2008.nc', 'vwnd.2009.nc', 'vwnd.2010.nc', 'vwnd.2011.nc', 'vwnd.2012.nc', 'vwnd.2013.nc', 'vwnd.2014.nc', 'vwnd.2015.nc', 'vwnd.2016.nc', 'vwnd.2017.nc']\n"
     ]
    },
    {
     "name": "stdout",
     "output_type": "stream",
     "text": [
      "['#testadd.ncl#', 'README', 'air.1948.nc', 'air.1949.nc', 'air.1950.nc', 'air.1951.nc', 'air.1952.nc', 'air.1953.nc', 'air.1954.nc', 'air.1955.nc', 'air.1956.nc', 'air.1957.nc', 'air.1958.nc', 'air.1959.nc', 'air.1960.nc', 'air.1961.nc', 'air.1962.nc', 'air.1963.nc', 'air.1964.nc', 'air.1965.nc', 'air.1966.nc', 'air.1967.nc', 'air.1968.nc', 'air.1969.nc', 'air.1970.nc', 'air.1971.nc', 'air.1972.nc', 'air.1973.nc', 'air.1974.nc', 'air.1975.nc', 'air.1976.nc', 'air.1977.nc', 'air.1978.nc', 'air.1979.nc', 'air.1980.nc', 'air.1981.nc', 'air.1982.nc', 'air.1983.nc', 'air.1984.nc', 'air.1985.nc', 'air.1986.nc', 'air.1987.nc', 'air.1988.nc', 'air.1989.nc', 'air.1990.nc', 'air.1991.nc', 'air.1992.nc', 'air.1993.nc', 'air.1994.nc', 'air.1995.nc', 'air.1996.nc', 'air.1997.nc', 'air.1998.nc', 'air.1999.nc', 'air.2000.nc', 'air.2001.nc', 'air.2002.nc', 'air.2003.nc', 'air.2004.nc', 'air.2005.nc', 'air.2006.nc', 'air.2007.nc', 'air.2008.nc', 'air.2009.nc', 'air.2010.nc', 'air.2011.nc', 'air.2012.nc', 'air.2013.nc', 'air.2014.nc', 'air.2015.nc', 'air.2016.nc', 'air.2017.nc', 'hgt.1948.nc', 'hgt.1949.nc', 'hgt.1950.nc', 'hgt.1951.nc', 'hgt.1952.nc', 'hgt.1953.nc', 'hgt.1954.nc', 'hgt.1955.nc', 'hgt.1956.nc', 'hgt.1957.nc', 'hgt.1958.nc', 'hgt.1959.nc', 'hgt.1960.nc', 'hgt.1961.nc', 'hgt.1962.nc', 'hgt.1963.nc', 'hgt.1964.nc', 'hgt.1965.nc', 'hgt.1966.nc', 'hgt.1967.nc', 'hgt.1968.nc', 'hgt.1969.nc', 'hgt.1970.nc', 'hgt.1971.nc', 'hgt.1972.nc', 'hgt.1973.nc', 'hgt.1974.nc', 'hgt.1975.nc', 'hgt.1976.nc', 'hgt.1977.nc', 'hgt.1978.nc', 'hgt.1979.nc', 'hgt.1980.nc', 'hgt.1981.nc', 'hgt.1982.nc', 'hgt.1983.nc', 'hgt.1984.nc', 'hgt.1985.nc', 'hgt.1986.nc', 'hgt.1987.nc', 'hgt.1988.nc', 'hgt.1989.nc', 'hgt.1990.nc', 'hgt.1991.nc', 'hgt.1992.nc', 'hgt.1993.nc', 'hgt.1994.nc', 'hgt.1995.nc', 'hgt.1996.nc', 'hgt.1997.nc', 'hgt.1998.nc', 'hgt.1999.nc', 'hgt.2000.nc', 'hgt.2001.nc', 'hgt.2002.nc', 'hgt.2003.nc', 'hgt.2004.nc', 'hgt.2005.nc', 'hgt.2006.nc', 'hgt.2007.nc', 'hgt.2008.nc', 'hgt.2009.nc', 'hgt.2010.nc', 'hgt.2011.nc', 'hgt.2012.nc', 'hgt.2013.nc', 'hgt.2014.nc', 'hgt.2015.nc', 'hgt.2016.nc', 'hgt.2017.nc', 'omega.1948.nc', 'omega.1949.nc', 'omega.1950.nc', 'omega.1951.nc', 'omega.1952.nc', 'omega.1953.nc', 'omega.1954.nc', 'omega.1955.nc', 'omega.1956.nc', 'omega.1957.nc', 'omega.1958.nc', 'omega.1959.nc', 'omega.1960.nc', 'omega.1961.nc', 'omega.1962.nc', 'omega.1963.nc', 'omega.1964.nc', 'omega.1965.nc', 'omega.1966.nc', 'omega.1967.nc', 'omega.1968.nc', 'omega.1969.nc', 'omega.1970.nc', 'omega.1971.nc', 'omega.1972.nc', 'omega.1973.nc', 'omega.1974.nc', 'omega.1975.nc', 'omega.1976.nc', 'omega.1977.nc', 'omega.1978.nc', 'omega.1979.nc', 'omega.1980.nc', 'omega.1981.nc', 'omega.1982.nc', 'omega.1983.nc', 'omega.1984.nc', 'omega.1985.nc', 'omega.1986.nc', 'omega.1987.nc', 'omega.1988.nc', 'omega.1989.nc', 'omega.1990.nc', 'omega.1991.nc', 'omega.1992.nc', 'omega.1993.nc', 'omega.1994.nc', 'omega.1995.nc', 'omega.1996.nc', 'omega.1997.nc', 'omega.1998.nc', 'omega.1999.nc', 'omega.2000.nc', 'omega.2001.nc', 'omega.2002.nc', 'omega.2003.nc', 'omega.2004.nc', 'omega.2005.nc', 'omega.2006.nc', 'omega.2007.nc', 'omega.2008.nc', 'omega.2009.nc', 'omega.2010.nc', 'omega.2011.nc', 'omega.2012.nc', 'omega.2013.nc', 'omega.2014.nc', 'omega.2015.nc', 'omega.2016.nc', 'omega.2017.nc', 'path.cas', 'rhum.1948.nc', 'rhum.1949.nc', 'rhum.1950.nc', 'rhum.1951.nc', 'rhum.1952.nc', 'rhum.1953.nc', 'rhum.1954.nc', 'rhum.1955.nc', 'rhum.1956.nc', 'rhum.1957.nc', 'rhum.1958.nc', 'rhum.1959.nc', 'rhum.1960.nc', 'rhum.1961.nc', 'rhum.1962.nc', 'rhum.1963.nc', 'rhum.1964.nc', 'rhum.1965.nc', 'rhum.1966.nc', 'rhum.1967.nc', 'rhum.1968.nc', 'rhum.1969.nc', 'rhum.1970.nc', 'rhum.1971.nc', 'rhum.1972.nc', 'rhum.1973.nc', 'rhum.1974.nc', 'rhum.1975.nc', 'rhum.1976.nc', 'rhum.1977.nc', 'rhum.1978.nc', 'rhum.1979.nc', 'rhum.1980.nc', 'rhum.1981.nc', 'rhum.1982.nc', 'rhum.1983.nc', 'rhum.1984.nc', 'rhum.1985.nc', 'rhum.1986.nc', 'rhum.1987.nc', 'rhum.1988.nc', 'rhum.1989.nc', 'rhum.1990.nc', 'rhum.1991.nc', 'rhum.1992.nc', 'rhum.1993.nc', 'rhum.1994.nc', 'rhum.1995.nc', 'rhum.1996.nc', 'rhum.1997.nc', 'rhum.1998.nc', 'rhum.1999.nc', 'rhum.2000.nc', 'rhum.2001.nc', 'rhum.2002.nc', 'rhum.2003.nc', 'rhum.2004.nc', 'rhum.2005.nc', 'rhum.2006.nc', 'rhum.2007.nc', 'rhum.2008.nc', 'rhum.2009.nc', 'rhum.2010.nc', 'rhum.2011.nc', 'rhum.2012.nc', 'rhum.2013.nc', 'rhum.2014.nc', 'rhum.2015.nc', 'rhum.2016.nc', 'rhum.2017.nc', 'shum.1948.nc', 'shum.1949.nc', 'shum.1950.nc', 'shum.1951.nc', 'shum.1952.nc', 'shum.1953.nc', 'shum.1954.nc', 'shum.1955.nc', 'shum.1956.nc', 'shum.1957.nc', 'shum.1958.nc', 'shum.1959.nc', 'shum.1960.nc', 'shum.1961.nc', 'shum.1962.nc', 'shum.1963.nc', 'shum.1964.nc', 'shum.1965.nc', 'shum.1966.nc', 'shum.1967.nc', 'shum.1968.nc', 'shum.1969.nc', 'shum.1970.nc', 'shum.1971.nc', 'shum.1972.nc', 'shum.1973.nc', 'shum.1974.nc', 'shum.1975.nc', 'shum.1976.nc', 'shum.1977.nc', 'shum.1978.nc', 'shum.1979.nc', 'shum.1980.nc', 'shum.1981.nc', 'shum.1982.nc', 'shum.1983.nc', 'shum.1984.nc', 'shum.1985.nc', 'shum.1986.nc', 'shum.1987.nc', 'shum.1988.nc', 'shum.1989.nc', 'shum.1990.nc', 'shum.1991.nc', 'shum.1992.nc', 'shum.1993.nc', 'shum.1994.nc', 'shum.1995.nc', 'shum.1996.nc', 'shum.1997.nc', 'shum.1998.nc', 'shum.1999.nc', 'shum.2000.nc', 'shum.2001.nc', 'shum.2002.nc', 'shum.2003.nc', 'shum.2004.nc', 'shum.2005.nc', 'shum.2006.nc', 'shum.2007.nc', 'shum.2008.nc', 'shum.2009.nc', 'shum.2010.nc', 'shum.2011.nc', 'shum.2012.nc', 'shum.2013.nc', 'shum.2014.nc', 'shum.2015.nc', 'shum.2016.nc', 'shum.2017.nc', 'uwnd.1948.nc', 'uwnd.1949.nc', 'uwnd.1950.nc', 'uwnd.1951.nc', 'uwnd.1952.nc', 'uwnd.1953.nc', 'uwnd.1954.nc', 'uwnd.1955.nc', 'uwnd.1956.nc', 'uwnd.1957.nc', 'uwnd.1958.nc', 'uwnd.1959.nc', 'uwnd.1960.nc', 'uwnd.1961.nc', 'uwnd.1962.nc', 'uwnd.1963.nc', 'uwnd.1964.nc', 'uwnd.1965.nc', 'uwnd.1966.nc', 'uwnd.1967.nc', 'uwnd.1968.nc', 'uwnd.1969.nc', 'uwnd.1970.nc', 'uwnd.1971.nc', 'uwnd.1972.nc', 'uwnd.1973.nc', 'uwnd.1974.nc', 'uwnd.1975.nc', 'uwnd.1976.nc', 'uwnd.1977.nc', 'uwnd.1978.nc', 'uwnd.1979.nc', 'uwnd.1980.nc', 'uwnd.1981.nc', 'uwnd.1982.nc', 'uwnd.1983.nc', 'uwnd.1984.nc', 'uwnd.1985.nc', 'uwnd.1986.nc', 'uwnd.1987.nc', 'uwnd.1988.nc', 'uwnd.1989.nc', 'uwnd.1990.nc', 'uwnd.1991.nc', 'uwnd.1992.nc', 'uwnd.1993.nc', 'uwnd.1994.nc', 'uwnd.1995.nc', 'uwnd.1996.nc', 'uwnd.1997.nc', 'uwnd.1998.nc', 'uwnd.1999.nc', 'uwnd.2000.nc', 'uwnd.2001.nc', 'uwnd.2002.nc', 'uwnd.2003.nc', 'uwnd.2004.nc', 'uwnd.2005.nc', 'uwnd.2006.nc', 'uwnd.2007.nc', 'uwnd.2008.nc', 'uwnd.2009.nc', 'uwnd.2010.nc', 'uwnd.2011.nc', 'uwnd.2012.nc', 'uwnd.2013.nc', 'uwnd.2014.nc', 'uwnd.2015.nc', 'uwnd.2016.nc', 'uwnd.2017.nc', 'vwnd.1948.nc', 'vwnd.1949.nc', 'vwnd.1950.nc', 'vwnd.1951.nc', 'vwnd.1952.nc', 'vwnd.1953.nc', 'vwnd.1954.nc', 'vwnd.1955.nc', 'vwnd.1956.nc', 'vwnd.1957.nc', 'vwnd.1958.nc', 'vwnd.1959.nc', 'vwnd.1960.nc', 'vwnd.1961.nc', 'vwnd.1962.nc', 'vwnd.1963.nc', 'vwnd.1964.nc', 'vwnd.1965.nc', 'vwnd.1966.nc', 'vwnd.1967.nc', 'vwnd.1968.nc', 'vwnd.1969.nc', 'vwnd.1970.nc', 'vwnd.1971.nc', 'vwnd.1972.nc', 'vwnd.1973.nc', 'vwnd.1974.nc', 'vwnd.1975.nc', 'vwnd.1976.nc', 'vwnd.1977.nc', 'vwnd.1978.nc', 'vwnd.1979.nc', 'vwnd.1980.nc', 'vwnd.1981.nc', 'vwnd.1982.nc', 'vwnd.1983.nc', 'vwnd.1984.nc', 'vwnd.1985.nc', 'vwnd.1986.nc', 'vwnd.1987.nc', 'vwnd.1988.nc', 'vwnd.1989.nc', 'vwnd.1990.nc', 'vwnd.1991.nc', 'vwnd.1992.nc', 'vwnd.1993.nc', 'vwnd.1994.nc', 'vwnd.1995.nc', 'vwnd.1996.nc', 'vwnd.1997.nc', 'vwnd.1998.nc', 'vwnd.1999.nc', 'vwnd.2000.nc', 'vwnd.2001.nc', 'vwnd.2002.nc', 'vwnd.2003.nc', 'vwnd.2004.nc', 'vwnd.2005.nc', 'vwnd.2006.nc', 'vwnd.2007.nc', 'vwnd.2008.nc', 'vwnd.2009.nc', 'vwnd.2010.nc', 'vwnd.2011.nc', 'vwnd.2012.nc', 'vwnd.2013.nc', 'vwnd.2014.nc', 'vwnd.2015.nc', 'vwnd.2016.nc', 'vwnd.2017.nc']\n",
      "/home/gtx1080/Documents/NCEP-Reanalysis/#testadd.ncl#\n",
      "/home/gtx1080/Documents/NCEP-Reanalysis/README\n",
      "/home/gtx1080/Documents/NCEP-Reanalysis/air.1948.nc\n"
     ]
    },
    {
     "ename": "KeyboardInterrupt",
     "evalue": "",
     "output_type": "error",
     "traceback": [
      "\u001b[0;31m---------------------------------------------------------------------------\u001b[0m",
      "\u001b[0;31mKeyboardInterrupt\u001b[0m                         Traceback (most recent call last)",
      "\u001b[0;32m<ipython-input-15-66b99c0e4226>\u001b[0m in \u001b[0;36m<module>\u001b[0;34m()\u001b[0m\n\u001b[1;32m      3\u001b[0m     \u001b[0mftp\u001b[0m\u001b[0;34m.\u001b[0m\u001b[0mLogin\u001b[0m\u001b[0;34m(\u001b[0m\u001b[0;34m'anonymous'\u001b[0m\u001b[0;34m,\u001b[0m\u001b[0;34m''\u001b[0m\u001b[0;34m)\u001b[0m\u001b[0;34m\u001b[0m\u001b[0m\n\u001b[1;32m      4\u001b[0m \u001b[0;34m\u001b[0m\u001b[0m\n\u001b[0;32m----> 5\u001b[0;31m     \u001b[0mftp\u001b[0m\u001b[0;34m.\u001b[0m\u001b[0mDownLoadFileTree\u001b[0m\u001b[0;34m(\u001b[0m\u001b[0;34m'/home/gtx1080/Documents/NCEP-Reanalysis/'\u001b[0m\u001b[0;34m,\u001b[0m \u001b[0;34m'/Datasets//ncep.reanalysis/pressure/'\u001b[0m\u001b[0;34m)\u001b[0m\u001b[0;31m#ok\u001b[0m\u001b[0;34m\u001b[0m\u001b[0m\n\u001b[0m\u001b[1;32m      6\u001b[0m     \u001b[0;31m#ftp.UpLoadFileTree('del', \"/del1\" )\u001b[0m\u001b[0;34m\u001b[0m\u001b[0;34m\u001b[0m\u001b[0m\n\u001b[1;32m      7\u001b[0m     \u001b[0mftp\u001b[0m\u001b[0;34m.\u001b[0m\u001b[0mclose\u001b[0m\u001b[0;34m(\u001b[0m\u001b[0;34m)\u001b[0m\u001b[0;34m\u001b[0m\u001b[0m\n",
      "\u001b[0;32m<ipython-input-14-4a38cca90998>\u001b[0m in \u001b[0;36mDownLoadFileTree\u001b[0;34m(self, LocalDir, RemoteDir)\u001b[0m\n\u001b[1;32m     65\u001b[0m                 \u001b[0mself\u001b[0m\u001b[0;34m.\u001b[0m\u001b[0mDownLoadFileTree\u001b[0m\u001b[0;34m(\u001b[0m \u001b[0mLocal\u001b[0m\u001b[0;34m,\u001b[0m \u001b[0mfile\u001b[0m \u001b[0;34m)\u001b[0m\u001b[0;34m\u001b[0m\u001b[0m\n\u001b[1;32m     66\u001b[0m             \u001b[0;32melse\u001b[0m\u001b[0;34m:\u001b[0m\u001b[0;34m\u001b[0m\u001b[0m\n\u001b[0;32m---> 67\u001b[0;31m                 \u001b[0mself\u001b[0m\u001b[0;34m.\u001b[0m\u001b[0mDownLoadFile\u001b[0m\u001b[0;34m(\u001b[0m \u001b[0mLocal\u001b[0m\u001b[0;34m,\u001b[0m \u001b[0mfile\u001b[0m \u001b[0;34m)\u001b[0m\u001b[0;34m\u001b[0m\u001b[0m\n\u001b[0m\u001b[1;32m     68\u001b[0m         \u001b[0mself\u001b[0m\u001b[0;34m.\u001b[0m\u001b[0mftp\u001b[0m\u001b[0;34m.\u001b[0m\u001b[0mcwd\u001b[0m\u001b[0;34m(\u001b[0m \u001b[0;34m\"..\"\u001b[0m \u001b[0;34m)\u001b[0m\u001b[0;34m\u001b[0m\u001b[0m\n\u001b[1;32m     69\u001b[0m         \u001b[0;32mreturn\u001b[0m\u001b[0;34m\u001b[0m\u001b[0m\n",
      "\u001b[0;32m<ipython-input-14-4a38cca90998>\u001b[0m in \u001b[0;36mDownLoadFile\u001b[0;34m(self, LocalFile, RemoteFile)\u001b[0m\n\u001b[1;32m     22\u001b[0m         \u001b[0mfile_handler\u001b[0m \u001b[0;34m=\u001b[0m \u001b[0mopen\u001b[0m\u001b[0;34m(\u001b[0m \u001b[0mLocalFile\u001b[0m\u001b[0;34m,\u001b[0m \u001b[0;34m'wb'\u001b[0m \u001b[0;34m)\u001b[0m\u001b[0;34m\u001b[0m\u001b[0m\n\u001b[1;32m     23\u001b[0m         \u001b[0mprint\u001b[0m\u001b[0;34m(\u001b[0m\u001b[0mLocalFile\u001b[0m\u001b[0;34m)\u001b[0m\u001b[0;34m\u001b[0m\u001b[0m\n\u001b[0;32m---> 24\u001b[0;31m         \u001b[0mself\u001b[0m\u001b[0;34m.\u001b[0m\u001b[0mftp\u001b[0m\u001b[0;34m.\u001b[0m\u001b[0mretrbinary\u001b[0m\u001b[0;34m(\u001b[0m \u001b[0;34m\"RETR %s\"\u001b[0m \u001b[0;34m%\u001b[0m\u001b[0;34m(\u001b[0m \u001b[0mRemoteFile\u001b[0m \u001b[0;34m)\u001b[0m\u001b[0;34m,\u001b[0m \u001b[0mfile_handler\u001b[0m\u001b[0;34m.\u001b[0m\u001b[0mwrite\u001b[0m \u001b[0;34m)\u001b[0m\u001b[0;34m\u001b[0m\u001b[0m\n\u001b[0m\u001b[1;32m     25\u001b[0m         \u001b[0mfile_handler\u001b[0m\u001b[0;34m.\u001b[0m\u001b[0mclose\u001b[0m\u001b[0;34m(\u001b[0m\u001b[0;34m)\u001b[0m\u001b[0;34m\u001b[0m\u001b[0m\n\u001b[1;32m     26\u001b[0m         \u001b[0mtime\u001b[0m\u001b[0;34m.\u001b[0m\u001b[0msleep\u001b[0m\u001b[0;34m(\u001b[0m\u001b[0;36m1\u001b[0m\u001b[0;34m)\u001b[0m\u001b[0;34m\u001b[0m\u001b[0m\n",
      "\u001b[0;32m/home/gtx1080/anaconda3/lib/python3.5/ftplib.py\u001b[0m in \u001b[0;36mretrbinary\u001b[0;34m(self, cmd, callback, blocksize, rest)\u001b[0m\n\u001b[1;32m    441\u001b[0m         \u001b[0;32mwith\u001b[0m \u001b[0mself\u001b[0m\u001b[0;34m.\u001b[0m\u001b[0mtransfercmd\u001b[0m\u001b[0;34m(\u001b[0m\u001b[0mcmd\u001b[0m\u001b[0;34m,\u001b[0m \u001b[0mrest\u001b[0m\u001b[0;34m)\u001b[0m \u001b[0;32mas\u001b[0m \u001b[0mconn\u001b[0m\u001b[0;34m:\u001b[0m\u001b[0;34m\u001b[0m\u001b[0m\n\u001b[1;32m    442\u001b[0m             \u001b[0;32mwhile\u001b[0m \u001b[0;36m1\u001b[0m\u001b[0;34m:\u001b[0m\u001b[0;34m\u001b[0m\u001b[0m\n\u001b[0;32m--> 443\u001b[0;31m                 \u001b[0mdata\u001b[0m \u001b[0;34m=\u001b[0m \u001b[0mconn\u001b[0m\u001b[0;34m.\u001b[0m\u001b[0mrecv\u001b[0m\u001b[0;34m(\u001b[0m\u001b[0mblocksize\u001b[0m\u001b[0;34m)\u001b[0m\u001b[0;34m\u001b[0m\u001b[0m\n\u001b[0m\u001b[1;32m    444\u001b[0m                 \u001b[0;32mif\u001b[0m \u001b[0;32mnot\u001b[0m \u001b[0mdata\u001b[0m\u001b[0;34m:\u001b[0m\u001b[0;34m\u001b[0m\u001b[0m\n\u001b[1;32m    445\u001b[0m                     \u001b[0;32mbreak\u001b[0m\u001b[0;34m\u001b[0m\u001b[0m\n",
      "\u001b[0;31mKeyboardInterrupt\u001b[0m: "
     ]
    }
   ],
   "source": [
    "if __name__ == \"__main__\":\n",
    "    ftp = myFtp('ftp.cdc.noaa.gov')\n",
    "    ftp.Login('anonymous','')\n",
    "\n",
    "    ftp.DownLoadFileTree('/home/gtx1080/Documents/NCEP-Reanalysis/', '/Datasets//ncep.reanalysis/pressure/')#ok\n",
    "    #ftp.UpLoadFileTree('del', \"/del1\" )\n",
    "    ftp.close()\n",
    "    print(\"ok!\")"
   ]
  },
  {
   "cell_type": "code",
   "execution_count": null,
   "metadata": {
    "collapsed": true
   },
   "outputs": [],
   "source": []
  }
 ],
 "metadata": {
  "kernelspec": {
   "display_name": "Python 3",
   "language": "python",
   "name": "python3"
  },
  "language_info": {
   "codemirror_mode": {
    "name": "ipython",
    "version": 3
   },
   "file_extension": ".py",
   "mimetype": "text/x-python",
   "name": "python",
   "nbconvert_exporter": "python",
   "pygments_lexer": "ipython3",
   "version": "3.5.3"
  }
 },
 "nbformat": 4,
 "nbformat_minor": 2
}
